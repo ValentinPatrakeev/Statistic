{
 "cells": [
  {
   "cell_type": "markdown",
   "id": "c8c58590",
   "metadata": {},
   "source": [
    "## Многофакторный регресионный анализ"
   ]
  },
  {
   "cell_type": "markdown",
   "id": "6562af5a",
   "metadata": {},
   "source": [
    "В качестве данных для анализа имеем: социально-экономические показатели для каждого штата США (всего 51 штат)\n",
    "Задачи:\n",
    "1) Получить уравнение множественной линейной регрессии\n",
    "\n",
    "2) Определить факторы, имеющие сильную статистическую взаимосвязь\n",
    "\n",
    "3) Процентно предположить:\n",
    "+ на сколько увеличится/уменьшится процент людей в бедности, при увеличении количества людей с средним образованием на 1%\n",
    "+ на сколько увеличится/уменьшится процент людей в бедности, при увеличении количества людей проживающих в столичной области на 1%\n",
    "    \n",
    "4) Показать изменчивость зависимой переменной\n"
   ]
  },
  {
   "cell_type": "code",
   "execution_count": null,
   "id": "350491c1",
   "metadata": {},
   "outputs": [],
   "source": []
  },
  {
   "cell_type": "code",
   "execution_count": 9,
   "id": "1eb36ffc",
   "metadata": {},
   "outputs": [
    {
     "name": "stdout",
     "output_type": "stream",
     "text": [
      "        state  metro_res  white  hs_grad  poverty  female_house\n",
      "0     Alabama       55.4   71.3     79.9     14.6          14.2\n",
      "1      Alaska       65.6   70.8     90.6      8.3          10.8\n",
      "2     Arizona       88.2   87.7     83.8     13.3          11.1\n",
      "3    Arkansas       52.5   81.0     80.9     18.0          12.1\n",
      "4  California       94.4   77.5     81.1     12.8          12.6\n"
     ]
    }
   ],
   "source": [
    "import pandas as pd #импортируем pandas as pd\n",
    "data_states= pd.read_csv('states.csv') #прочитаем csv и создадим наш DataFrame\n",
    "print(data_states.head()) #Выведем первые 5 строк нашей таблицы"
   ]
  },
  {
   "cell_type": "markdown",
   "id": "41001709",
   "metadata": {},
   "source": [
    "Будем использовать переменные metro_res, white, hs_grad, female_house  для предсказания зависимая переменной(ЗП) - poverty\n",
    "переменные: \n",
    "\n",
    "+ metro_res - процент людей, проживающией в столичной области\n",
    "+ white - процент белокожего населения\n",
    "+ hs_grad - процент людей с высшем образованием\n",
    "+ poverty - процент людей в бедности\n",
    "+ female_houst - процент семей, где женщины - домохозяйки"
   ]
  },
  {
   "cell_type": "code",
   "execution_count": 8,
   "id": "336aa846",
   "metadata": {},
   "outputs": [
    {
     "data": {
      "text/html": [
       "<table class=\"simpletable\">\n",
       "<caption>OLS Regression Results</caption>\n",
       "<tr>\n",
       "  <th>Dep. Variable:</th>         <td>poverty</td>     <th>  R-squared:         </th> <td>   0.642</td>\n",
       "</tr>\n",
       "<tr>\n",
       "  <th>Model:</th>                   <td>OLS</td>       <th>  Adj. R-squared:    </th> <td>   0.610</td>\n",
       "</tr>\n",
       "<tr>\n",
       "  <th>Method:</th>             <td>Least Squares</td>  <th>  F-statistic:       </th> <td>   20.58</td>\n",
       "</tr>\n",
       "<tr>\n",
       "  <th>Date:</th>             <td>Mon, 13 Mar 2023</td> <th>  Prob (F-statistic):</th> <td>8.88e-10</td>\n",
       "</tr>\n",
       "<tr>\n",
       "  <th>Time:</th>                 <td>17:15:42</td>     <th>  Log-Likelihood:    </th> <td> -103.39</td>\n",
       "</tr>\n",
       "<tr>\n",
       "  <th>No. Observations:</th>      <td>    51</td>      <th>  AIC:               </th> <td>   216.8</td>\n",
       "</tr>\n",
       "<tr>\n",
       "  <th>Df Residuals:</th>          <td>    46</td>      <th>  BIC:               </th> <td>   226.4</td>\n",
       "</tr>\n",
       "<tr>\n",
       "  <th>Df Model:</th>              <td>     4</td>      <th>                     </th>     <td> </td>   \n",
       "</tr>\n",
       "<tr>\n",
       "  <th>Covariance Type:</th>      <td>nonrobust</td>    <th>                     </th>     <td> </td>   \n",
       "</tr>\n",
       "</table>\n",
       "<table class=\"simpletable\">\n",
       "<tr>\n",
       "        <td></td>          <th>coef</th>     <th>std err</th>      <th>t</th>      <th>P>|t|</th>  <th>[0.025</th>    <th>0.975]</th>  \n",
       "</tr>\n",
       "<tr>\n",
       "  <th>Intercept</th>    <td>   66.4765</td> <td>   12.590</td> <td>    5.280</td> <td> 0.000</td> <td>   41.134</td> <td>   91.819</td>\n",
       "</tr>\n",
       "<tr>\n",
       "  <th>metro_res</th>    <td>   -0.0563</td> <td>    0.020</td> <td>   -2.881</td> <td> 0.006</td> <td>   -0.096</td> <td>   -0.017</td>\n",
       "</tr>\n",
       "<tr>\n",
       "  <th>white</th>        <td>   -0.0481</td> <td>    0.033</td> <td>   -1.456</td> <td> 0.152</td> <td>   -0.115</td> <td>    0.018</td>\n",
       "</tr>\n",
       "<tr>\n",
       "  <th>hs_grad</th>      <td>   -0.5547</td> <td>    0.105</td> <td>   -5.288</td> <td> 0.000</td> <td>   -0.766</td> <td>   -0.344</td>\n",
       "</tr>\n",
       "<tr>\n",
       "  <th>female_house</th> <td>    0.0505</td> <td>    0.243</td> <td>    0.208</td> <td> 0.836</td> <td>   -0.439</td> <td>    0.540</td>\n",
       "</tr>\n",
       "</table>\n",
       "<table class=\"simpletable\">\n",
       "<tr>\n",
       "  <th>Omnibus:</th>       <td> 3.254</td> <th>  Durbin-Watson:     </th> <td>   1.891</td>\n",
       "</tr>\n",
       "<tr>\n",
       "  <th>Prob(Omnibus):</th> <td> 0.197</td> <th>  Jarque-Bera (JB):  </th> <td>   3.043</td>\n",
       "</tr>\n",
       "<tr>\n",
       "  <th>Skew:</th>          <td> 0.585</td> <th>  Prob(JB):          </th> <td>   0.218</td>\n",
       "</tr>\n",
       "<tr>\n",
       "  <th>Kurtosis:</th>      <td> 2.750</td> <th>  Cond. No.          </th> <td>6.50e+03</td>\n",
       "</tr>\n",
       "</table><br/><br/>Notes:<br/>[1] Standard Errors assume that the covariance matrix of the errors is correctly specified.<br/>[2] The condition number is large, 6.5e+03. This might indicate that there are<br/>strong multicollinearity or other numerical problems."
      ],
      "text/plain": [
       "<class 'statsmodels.iolib.summary.Summary'>\n",
       "\"\"\"\n",
       "                            OLS Regression Results                            \n",
       "==============================================================================\n",
       "Dep. Variable:                poverty   R-squared:                       0.642\n",
       "Model:                            OLS   Adj. R-squared:                  0.610\n",
       "Method:                 Least Squares   F-statistic:                     20.58\n",
       "Date:                Mon, 13 Mar 2023   Prob (F-statistic):           8.88e-10\n",
       "Time:                        17:15:42   Log-Likelihood:                -103.39\n",
       "No. Observations:                  51   AIC:                             216.8\n",
       "Df Residuals:                      46   BIC:                             226.4\n",
       "Df Model:                           4                                         \n",
       "Covariance Type:            nonrobust                                         \n",
       "================================================================================\n",
       "                   coef    std err          t      P>|t|      [0.025      0.975]\n",
       "--------------------------------------------------------------------------------\n",
       "Intercept       66.4765     12.590      5.280      0.000      41.134      91.819\n",
       "metro_res       -0.0563      0.020     -2.881      0.006      -0.096      -0.017\n",
       "white           -0.0481      0.033     -1.456      0.152      -0.115       0.018\n",
       "hs_grad         -0.5547      0.105     -5.288      0.000      -0.766      -0.344\n",
       "female_house     0.0505      0.243      0.208      0.836      -0.439       0.540\n",
       "==============================================================================\n",
       "Omnibus:                        3.254   Durbin-Watson:                   1.891\n",
       "Prob(Omnibus):                  0.197   Jarque-Bera (JB):                3.043\n",
       "Skew:                           0.585   Prob(JB):                        0.218\n",
       "Kurtosis:                       2.750   Cond. No.                     6.50e+03\n",
       "==============================================================================\n",
       "\n",
       "Notes:\n",
       "[1] Standard Errors assume that the covariance matrix of the errors is correctly specified.\n",
       "[2] The condition number is large, 6.5e+03. This might indicate that there are\n",
       "strong multicollinearity or other numerical problems.\n",
       "\"\"\""
      ]
     },
     "execution_count": 8,
     "metadata": {},
     "output_type": "execute_result"
    }
   ],
   "source": [
    "import statsmodels.formula.api as smf #импортируем\n",
    "import statsmodels.api as sm #имортируем\n",
    "\n",
    "model = smf.ols(formula = 'poverty ~ metro_res + white + hs_grad + female_house', data=data_states).fit()\n",
    "\n",
    "model.summary()"
   ]
  },
  {
   "cell_type": "markdown",
   "id": "c6a04a91",
   "metadata": {},
   "source": [
    "<ins>Вывод:</ins>"
   ]
  },
  {
   "cell_type": "markdown",
   "id": "4d3ed82a",
   "metadata": {},
   "source": [
    "-В колонке coef расчитаны коэфициенты таким образом, чтобы наша модель максимально хорошо описывала взаимосвязь ЗП со всеми НП (подобранные методом наименьших квадратов)\n",
    "-В колонке Std.Eror - стандартную ошибку\n",
    "-t - Т-критерий\n",
    "-P - уровень значимости\n",
    "\n",
    "+ Уравнение регрессии: Бедность(poverty) = 66.4765 + (-0.0563)*metro_res + (-0.0481)*white + (-0.5547)*hs_grad + 0.0505*female_house\n",
    "+ В штате, где уровень людей со всеми исследуемыми предикторами (независимыми переменными) будет равен нулю, будет 66.4765%(=b0) людей, проживающих за чертой бедности.\n",
    "+ мы получили p-value < 0.05 только для двух факторов: проживание в столичной области (metro_res) и уровень образования(hs_grad). То делаем вывод, что только эти факторы имеют статистически значимую взаимосвязь с исследуемой зависимой переменной - бедностью населения (poverty)\n",
    "+ С каждым 1% увеличения людей, имеющих среднее образование, количество людей, проживающих в бедности уменьшается на 0.5547%\n",
    "+ С каждым 1% увеличения людей, проживающих в столичной области, количество людей, проживающих в бедности уменьшается на 0.0563%\n",
    "\n",
    "61% (=Adj. R-squared) изменчивости нашей зависимой переменной объясняется нашей моделью.\n",
    "\n",
    "\n"
   ]
  },
  {
   "cell_type": "code",
   "execution_count": null,
   "id": "01f63882",
   "metadata": {},
   "outputs": [],
   "source": []
  }
 ],
 "metadata": {
  "kernelspec": {
   "display_name": "Python 3 (ipykernel)",
   "language": "python",
   "name": "python3"
  },
  "language_info": {
   "codemirror_mode": {
    "name": "ipython",
    "version": 3
   },
   "file_extension": ".py",
   "mimetype": "text/x-python",
   "name": "python",
   "nbconvert_exporter": "python",
   "pygments_lexer": "ipython3",
   "version": "3.9.13"
  }
 },
 "nbformat": 4,
 "nbformat_minor": 5
}
